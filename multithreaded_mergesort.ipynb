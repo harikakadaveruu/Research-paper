{
 "cells": [
  {
   "cell_type": "code",
   "execution_count": 2,
   "id": "4225398e",
   "metadata": {},
   "outputs": [
    {
     "name": "stdout",
     "output_type": "stream",
     "text": [
      "Given array is\n",
      "97 90 96 28 18 7 50 30 4 16 \n",
      "Sorted array is\n",
      "4 7 16 18 28 30 50 90 96 97 \n",
      "Multithreaded times: [0.09663820266723633, 1.0816197395324707, 34.85619020462036]\n",
      "Single-threaded times: [0.0009014606475830078, 0.0, 0.055150508880615234]\n"
     ]
    }
   ],
   "source": [
    "import threading\n",
    "import random\n",
    "\n",
    "def merge_sort(arr):\n",
    "    if len(arr) > 1:\n",
    "        mid = len(arr) // 2\n",
    "        left = arr[:mid]\n",
    "        right = arr[mid:]\n",
    "\n",
    "        left_thread = threading.Thread(target=lambda: merge_sort(left))\n",
    "        right_thread = threading.Thread(target=lambda: merge_sort(right))\n",
    "\n",
    "        left_thread.start()\n",
    "        right_thread.start()\n",
    "        \n",
    "        left_thread.join()\n",
    "        right_thread.join()\n",
    "\n",
    "        i = j = k = 0\n",
    "        while i < len(left) and j < len(right):\n",
    "            if left[i] < right[j]:\n",
    "                arr[k] = left[i]\n",
    "                i += 1\n",
    "            else:\n",
    "                arr[k] = right[j]\n",
    "                j += 1\n",
    "            k += 1\n",
    "        while i < len(left):\n",
    "            arr[k] = left[i]\n",
    "            i += 1\n",
    "            k += 1\n",
    "\n",
    "        while j < len(right):\n",
    "            arr[k] = right[j]\n",
    "            j += 1\n",
    "            k += 1\n",
    "\n",
    "def print_list(arr):\n",
    "    for i in range(len(arr)):\n",
    "        print(arr[i], end=\" \")\n",
    "    print()\n",
    "arr = [random.randint(0, 100) for _ in range(10)]\n",
    "print(\"Given array is\")\n",
    "print_list(arr)\n",
    "\n",
    "merge_sort(arr)\n",
    "\n",
    "print(\"Sorted array is\")\n",
    "print_list(arr)\n",
    "\n"
   ]
  },
  {
   "cell_type": "code",
   "execution_count": null,
   "id": "068fbd24",
   "metadata": {},
   "outputs": [],
   "source": []
  }
 ],
 "metadata": {
  "kernelspec": {
   "display_name": "Python 3 (ipykernel)",
   "language": "python",
   "name": "python3"
  },
  "language_info": {
   "codemirror_mode": {
    "name": "ipython",
    "version": 3
   },
   "file_extension": ".py",
   "mimetype": "text/x-python",
   "name": "python",
   "nbconvert_exporter": "python",
   "pygments_lexer": "ipython3",
   "version": "3.11.5"
  }
 },
 "nbformat": 4,
 "nbformat_minor": 5
}
